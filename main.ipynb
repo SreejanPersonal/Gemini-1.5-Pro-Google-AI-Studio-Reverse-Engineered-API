{
 "cells": [
  {
   "cell_type": "code",
   "execution_count": 114,
   "metadata": {},
   "outputs": [],
   "source": [
    "# ██████╗   ███████╗ ██╗    ██╗ ███████╗            ██████╗    ██████╗             ██████╗   ██████╗    ██████╗   ███████╗\n",
    "# ██╔══██╗ ██╔════╝ ██║    ██║ ██╔════╝            ██╔══██╗ ██╔═══██╗         ██╔════╝ ██╔═══██╗ ██╔══██╗ ██╔════╝\n",
    "# ██║    ██║ █████╗     ██║    ██║ ███████╗            ██║    ██║ ██║      ██║         ██║           ██║      ██║ ██║    ██║ █████╗  \n",
    "# ██║    ██║ ██╔══╝    ╚██╗  ██╔╝ ╚════██║           ██║    ██║ ██║      ██║         ██║           ██║      ██║ ██║    ██║ ██╔══╝  \n",
    "# ██████╔╝ ███████╗  ╚████╔╝  ███████║            ██████╔╝╚██████╔╝         ╚██████╗ ╚██████╔╝  ██████╔╝ ███████╗\n",
    "# ╚═════╝  ╚══════╝    ╚═══╝     ╚══════╝            ╚═════╝    ╚═════╝             ╚═════╝   ╚═════╝    ╚═════╝   ╚══════╝"
   ]
  },
  {
   "cell_type": "markdown",
   "metadata": {},
   "source": [
    "# Made With 💓 By - [Devs Do Code](https://www.youtube.com/channel/@devsdocode)\n",
    "\n",
    "\n",
    "For any questions or concerns, reach out to us via our social media handles. Our top choice for contact is [Telegram](https://t.me/devsdocode). You can also find us on other platforms listed above. We're here to help!\n",
    "\n",
    "- **YouTube Channel**: [https://www.youtube.com/@DevsDoCode](https://www.youtube.com/@DevsDoCode)\n",
    "- **Telegram Group**: [https://t.me/devsdocode](https://t.me/devsdocode)\n",
    "- **Discord Server**: [https://discord.gg/ehwfVtsAts](https://discord.gg/ehwfVtsAts)\n",
    "- **Instagram**:\n",
    "  - **Personal**: https://www.instagram.com/sree.shades_/\n",
    "  - **Channel**: https://www.instagram.com/devsdocode_/\n",
    "\n",
    "---\n",
    "\n",
    "🚀 Dive into the world of coding with [Devs Do Code](https://www.youtube.com/channel/@devsdocode) - where passion meets programming! Make sure to hit that Subscribe button to stay tuned for exciting content! 😊✨\n",
    "\n",
    "**Pro Tip:** For optimal performance and a seamless experience, we recommend using the default library versions demonstrated in this demo. Your coding journey just got even better! Happy coding! 🖥️💻\n"
   ]
  },
  {
   "cell_type": "markdown",
   "metadata": {},
   "source": [
    "# Overview"
   ]
  },
  {
   "cell_type": "markdown",
   "metadata": {},
   "source": [
    "### Imports"
   ]
  },
  {
   "cell_type": "code",
   "execution_count": 1,
   "metadata": {},
   "outputs": [],
   "source": [
    "# Importing Required Modules\n",
    "import requests"
   ]
  },
  {
   "cell_type": "markdown",
   "metadata": {},
   "source": [
    "### Defining Required Payloads"
   ]
  },
  {
   "cell_type": "code",
   "execution_count": 2,
   "metadata": {},
   "outputs": [],
   "source": [
    "# Define the API endpoint URL\n",
    "\n",
    "url = \"https://alkalimakersuite-pa.clients6.google.com/$rpc/google.internal.alkali.applications.makersuite.v1.MakerSuiteService/GenerateContent\"\n",
    "model = \"models/gemini-1.5-pro-latest\"\n",
    "user_agent = \"Mozilla/5.0 (Windows NT 10.0; Win64; x64) AppleWebKit/537.36 (KHTML, like Gecko) Chrome/123.0.0.0 Safari/537.36\"\n",
    "origin_url = \"https://aistudio.google.com\"\n",
    "content_type = \"application/json+protobuf\""
   ]
  },
  {
   "cell_type": "code",
   "execution_count": 3,
   "metadata": {},
   "outputs": [],
   "source": [
    "# Authorization Tokens. \n",
    "# Could be Found in the Cookie list of https://aistudio.google.com/ \n",
    "# or Check out the Response Headers of a request made in from gemini 1.5 Pro Model (Check the Network Tab in the Developers Console for more infromation)\n",
    "\n",
    "Authorization = \"\"\n",
    "Cookie = \"\"\n",
    "X_Google_Api_Key = \"\"\n",
    "User_id = \"\""
   ]
  },
  {
   "cell_type": "code",
   "execution_count": 118,
   "metadata": {},
   "outputs": [],
   "source": [
    "# Other Tuning Parameters (Optional)\n",
    "\n",
    "max_tokens = 8192\n",
    "temperature = 2\n",
    "top_p = 0.4\n",
    "\n",
    "stop_words = None\n",
    "safety_settings = None\n",
    "system_prompt = None"
   ]
  },
  {
   "cell_type": "code",
   "execution_count": 119,
   "metadata": {},
   "outputs": [],
   "source": [
    "# Formatted Other Params\n",
    "other_params = [[[None, None, 7, 2], [None, None, 8, 2], [None, None, 9, 2], [None, None, 10, 2]], [stop_words, safety_settings, system_prompt, max_tokens, temperature, top_p, 32]] "
   ]
  },
  {
   "cell_type": "markdown",
   "metadata": {},
   "source": [
    "### Requesting Endpoint"
   ]
  },
  {
   "cell_type": "code",
   "execution_count": 122,
   "metadata": {},
   "outputs": [
    {
     "name": "stdout",
     "output_type": "stream",
     "text": [
      "[[[[[[[[null,\"India\"]],\"model\"],1]]],[[[[[[null,\", a land where vibrant hues dance with\"]],\"model\"],1,null,null,[[null,null,9,1],[null,null,8,1],[null,null,7,1],[null,null,10,1]]]]],[[[[[[null,\" ancient rhythms, is a tapestry of beauty woven with intricate threads. From the snow\"]],\"model\"],1,null,null,[[null,null,9,1],[null,null,8,1],[null,null,7,1],[null,null,10,1]]]]],[[[[[[null,\"-capped Himalayas that pierce the sky to the sun-kissed beaches that kiss\"]],\"model\"],1,null,null,[[null,null,9,1],[null,null,8,1],[null,null,7,1],[null,null,10,1]]]]],[[[[[[null,\" the Arabian Sea, its landscapes are a breathtaking symphony of nature's artistry.\\n\\nIn the north, the Taj Mahal, an ode to eternal love, shi\"]],\"model\"],1,null,null,[[null,null,9,1],[null,null,8,1],[null,null,7,1],[null,null,10,1]]]]],[[[[[[null,\"mmers like a pearl against the canvas of dawn. The ghats of Varanasi, bathed in the golden glow of sunrise, whisper stories of life and death, of\"]],\"model\"],1,null,null,[[null,null,9,1],[null,null,8,1],[null,null,7,1],[null,null,10,1]]]]],[[[[[[null,\" faith and rebirth. The Thar Desert, a sea of sand dunes, unfolds its stark beauty under a canopy of a million stars.\\n\\nDown south, Kerala's backwaters, a labyrinth of emerald waterways, weave through lush paddy fields and\"]],\"model\"],1,null,null,[[null,null,9,1],[null,null,8,1],[null,null,7,1],[null,null,10,1]]]]],[[[[[[null,\" coconut groves, offering a glimpse into a serene, timeless world. The vibrant coral reefs of Lakshadweep and Andaman Islands, teeming with life, are a kaleidoscope of colors beneath the azure waters.\\n\\nIndia's beauty transcends the physical\"]],\"model\"],1,null,null,[[null,null,9,1],[null,null,8,1],[null,null,7,1],[null,null,10,1]]]]],[[[[[[null,\". It resonates in the warmth of its people, in their diverse cultures and traditions, in their vibrant festivals that paint the streets with joy. It echoes in the ancient wisdom of its scriptures, in the soulful strains of its music, in the intricate movements of its classical dances.\\n\\nIndia is a land of contrasts, where\"]],\"model\"],1,null,null,[[null,null,9,1],[null,null,8,1],[null,null,7,1],[null,null,10,1]]]]],[[[[[[null,\" chaos and serenity coexist, where modernity thrives alongside age-old traditions. It is this very diversity, this kaleidoscopic blend of sights, sounds, and experiences, that makes India truly unique, truly beautiful. \\n\\nTo experience India is to embark on a journey of the senses, a journey that leaves an indelible mark\"]],\"model\"],1,null,null,[[null,null,9,1],[null,null,8,2],[null,null,7,1],[null,null,10,1]]]]],[[[[[[null,\" on the soul. It is to discover a beauty that is not merely skin-deep, but one that resonates from within, a beauty that lingers long after you have left its shores.\\n\"]],\"model\"],1,null,null,[[null,null,9,1],[null,null,8,2],[null,null,7,1],[null,null,10,1]]]]]]]\n"
     ]
    }
   ],
   "source": [
    "# Requesting Endpoint\n",
    "\n",
    "# Set up the request headers\n",
    "headers = {\n",
    "    \"Content-Type\": content_type,\n",
    "    \"Authorization\": Authorization,\n",
    "    \"Cookie\": Cookie,\n",
    "    \"Origin\": origin_url,\n",
    "    \"User-Agent\": user_agent,\n",
    "    \"X-Goog-Api-Key\": X_Google_Api_Key\n",
    "}\n",
    "\n",
    "# Prepare the payload data\n",
    "payload = [\n",
    "    model,\n",
    "    [[[[None, \"write something about the beauty of india\"]], \"user\"]],\n",
    "    other_params[0],\n",
    "    other_params[1],\n",
    "    User_id]\n",
    "\n",
    "# Make a POST request to the API endpoint with the payload data and headers\n",
    "response = requests.post(url, json=payload, headers=headers)\n",
    "\n",
    "# Handle the response\n",
    "if response.status_code == 200:\n",
    "    print(response.text)\n",
    "else:\n",
    "    # If there was an error, print the error message\n",
    "    print(\"Error:\", response.status_code, response.reason)"
   ]
  },
  {
   "cell_type": "markdown",
   "metadata": {},
   "source": [
    "# Final Punchline"
   ]
  },
  {
   "cell_type": "markdown",
   "metadata": {},
   "source": [
    "#### Functions"
   ]
  },
  {
   "cell_type": "code",
   "execution_count": 123,
   "metadata": {},
   "outputs": [],
   "source": [
    "# Function to extract the response content\n",
    "\n",
    "def extract_before_model(data_list):\n",
    "    extracted_list = []  # Initialize an empty list to store extracted strings\n",
    "    \n",
    "    # Iterate through the nested lists to find strings before \"model\"\n",
    "    for item in data_list:\n",
    "        if isinstance(item, list):  # Check if the item is a list\n",
    "            extracted_list.extend(extract_before_model(item))  # Recursively call the function to handle nested lists\n",
    "        elif isinstance(item, str) and item.strip() == 'model':  # Check if the item is \"model\"\n",
    "            break  # Stop iterating when \"model\" is found\n",
    "        elif isinstance(item, str):  # Check if the item is a string\n",
    "            extracted_list.append(item)  # Add the string to the list\n",
    "    \n",
    "    return extracted_list"
   ]
  },
  {
   "cell_type": "code",
   "execution_count": 124,
   "metadata": {},
   "outputs": [],
   "source": [
    "# format the output\n",
    "\n",
    "def formatter(json_response):\n",
    "    content = \"\"\n",
    "    for object_string in json_response[0]:\n",
    "        extracted_content = extract_before_model(object_string)\n",
    "        content = content + extracted_content[0]\n",
    "\n",
    "    return content\n"
   ]
  },
  {
   "cell_type": "code",
   "execution_count": 125,
   "metadata": {},
   "outputs": [],
   "source": [
    "# Main Function\n",
    "\n",
    "def Gemini_1_5(query):\n",
    "\n",
    "    # Set up the request headers\n",
    "    headers = {\n",
    "        \"Content-Type\": content_type,\n",
    "        \"Authorization\": Authorization,\n",
    "        \"Cookie\": Cookie,\n",
    "        \"Origin\": origin_url,\n",
    "        \"User-Agent\": user_agent,\n",
    "        \"X-Goog-Api-Key\": X_Google_Api_Key\n",
    "    }\n",
    "\n",
    "    # Prepare the payload data\n",
    "    payload = [\n",
    "        model,\n",
    "        [[[[None, query]], \"user\"]],\n",
    "        other_params[0],\n",
    "        other_params[1],\n",
    "        User_id\n",
    "        ]\n",
    "\n",
    "    # Make a POST request to the API endpoint with the payload data and headers\n",
    "    response = requests.post(url, json=payload, headers=headers)\n",
    "\n",
    "    # Handle the response\n",
    "    if response.status_code == 200:\n",
    "        output = formatter(response.json())\n",
    "        return output\n",
    "    else:\n",
    "        # If there was an error, print the error message\n",
    "        print(\"Error:\", response.status_code, response.reason)"
   ]
  },
  {
   "cell_type": "markdown",
   "metadata": {},
   "source": [
    "#### Call"
   ]
  },
  {
   "cell_type": "code",
   "execution_count": 126,
   "metadata": {},
   "outputs": [
    {
     "name": "stdout",
     "output_type": "stream",
     "text": [
      "India's beauty is a tapestry woven from diverse threads, creating a vibrant and captivating picture. It's a land where ancient and modern intertwine, where spirituality and dynamism coexist, and where breathtaking landscapes are adorned with rich cultural expressions. Here are some facets of India's beauty:\n",
      "\n",
      "**Natural Splendor:**\n",
      "\n",
      "* **Majestic Mountains:** The Himalayas, crowned with snow, stand sentinel in the north, offering breathtaking vistas and spiritual havens. The Western Ghats, draped in emerald green, are a biodiversity hotspot teeming with life.\n",
      "* **Serene Backwaters:** Kerala's backwaters, a network of tranquil canals and lagoons, offer a glimpse into a slower, more peaceful way of life. Houseboats glide through coconut groves and paddy fields, creating a scene of idyllic beauty.\n",
      "* **Sun-Kissed Beaches:** India's coastline stretches for thousands of kilometers, offering a diverse range of beaches. From the golden sands of Goa to the palm-fringed shores of Kerala, there's a beach for every mood and preference.\n",
      "* **Thundering Waterfalls:** The cascading waters of Jog Falls, the mist-filled Dhuandhar Falls, and the cascading Nohkalikai Falls are just a few examples of nature's dramatic displays in India.\n",
      "* **Arid Deserts:** The Thar Desert, with its undulating sand dunes and stark beauty, presents a contrasting landscape, captivating with its starkness and unique ecosystem.\n",
      "\n",
      "**Cultural Tapestry:**\n",
      "\n",
      "* **Ancient Temples:** India's landscape is dotted with architectural marvels like the Taj Mahal, Khajuraho temples, and Meenakshi Temple. These structures are testaments to the country's rich history and artistic mastery.\n",
      "* **Colorful Festivals:** Holi's vibrant colors, Diwali's twinkling lights, and Durga Puja's elaborate pandals showcase the vibrancy and diversity of Indian festivals, each with its own unique story and significance.\n",
      "* **Diverse Traditions:** From the classical dance forms of Bharatanatyam and Odissi to the folk music of Rajasthan and Punjab, India's cultural heritage is a treasure trove of traditions passed down through generations.\n",
      "* **Warm Hospitality:** The warmth and generosity of the Indian people are legendary. Their welcoming smiles and genuine kindness add a special charm to any experience in India.\n",
      "\n",
      "**Spiritual Aura:**\n",
      "\n",
      "* **Sacred Sites:** India is the birthplace of several religions, and its land is dotted with sacred sites like Varanasi, Bodh Gaya, and Amritsar. These places exude a spiritual aura, attracting pilgrims and seekers from around the world.\n",
      "* **Yoga and Meditation:** The ancient practices of yoga and meditation, originating in India, offer a path to inner peace and self-discovery, attracting many to explore their spiritual side.\n",
      "\n",
      "India's beauty is not just about what you see, but also about what you feel. It's the warmth of the people, the richness of the culture, and the depth of the history that truly makes India a captivating destination. It's a land that stays with you long after you leave, a place that invites you to discover, to experience, and to be transformed.\n",
      "\n"
     ]
    }
   ],
   "source": [
    "# Testing and debugging\n",
    "\n",
    "output = Gemini_1_5(\"Describe about the beauty of India\")\n",
    "print(output)"
   ]
  }
 ],
 "metadata": {
  "kernelspec": {
   "display_name": "Python 3",
   "language": "python",
   "name": "python3"
  },
  "language_info": {
   "codemirror_mode": {
    "name": "ipython",
    "version": 3
   },
   "file_extension": ".py",
   "mimetype": "text/x-python",
   "name": "python",
   "nbconvert_exporter": "python",
   "pygments_lexer": "ipython3",
   "version": "3.10.10"
  }
 },
 "nbformat": 4,
 "nbformat_minor": 2
}
